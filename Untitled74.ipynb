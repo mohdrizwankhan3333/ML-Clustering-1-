{
 "cells": [
  {
   "cell_type": "code",
   "execution_count": null,
   "id": "f077387c-e37e-4690-9995-5eab11bc483f",
   "metadata": {},
   "outputs": [],
   "source": [
    "Q1: Different clustering algorithms include K-means, hierarchical, DBSCAN, and Gaussian Mixture Models. \n",
    "They differ in approach (e.g., partitioning, density-based) and assumptions about cluster shape and density.\n",
    "\n",
    "Q2: K-means clustering partitions data into k clusters by minimizing the variance within each cluster. \n",
    "It iteratively assigns points to clusters and updates cluster centroids until convergence.\n",
    "\n",
    "Q3: Advantages of K-means include simplicity and efficiency. \n",
    "Limitations include sensitivity to initial centroids, difficulty handling non-spherical clusters, and inability to determine the number \n",
    "of clusters.\n",
    "\n",
    "Q4: To determine the optimal number of clusters, use methods like the elbow method, silhouette score, or the gap statistic, \n",
    "which balance cluster compactness and separation.\n",
    "\n",
    "Q5: K-means clustering is used in market segmentation, image compression, and customer segmentation. It helps in grouping similar data \n",
    "points to identify patterns and trends.\n",
    "\n",
    "Q6: The output of K-means includes cluster assignments and centroids. Insights derived include identifying homogeneous groups, \n",
    "understanding group characteristics, and making data-driven decisions.\n",
    "\n",
    "Q7: Common challenges in K-means include selecting k, handling outliers, and ensuring convergence. Address these by using advanced \n",
    "initialization methods, preprocessing data, and evaluating clustering performance with different k values."
   ]
  }
 ],
 "metadata": {
  "kernelspec": {
   "display_name": "Python 3 (ipykernel)",
   "language": "python",
   "name": "python3"
  },
  "language_info": {
   "codemirror_mode": {
    "name": "ipython",
    "version": 3
   },
   "file_extension": ".py",
   "mimetype": "text/x-python",
   "name": "python",
   "nbconvert_exporter": "python",
   "pygments_lexer": "ipython3",
   "version": "3.10.8"
  }
 },
 "nbformat": 4,
 "nbformat_minor": 5
}
